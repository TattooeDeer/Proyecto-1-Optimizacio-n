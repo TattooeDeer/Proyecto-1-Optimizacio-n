{
 "cells": [
  {
   "cell_type": "markdown",
   "metadata": {},
   "source": [
    "# Telescope Network Scheduling Problem\n",
    "Tipo de resolución: Porgramación Lineal Entera\n",
    "\n",
    "## I) Descripción del Problema:\n",
    "> ...\n",
    "\n",
    "## II) Supuestos:\n",
    "> ...\n",
    "\n",
    "## III) Modelo:\n",
    "> ### a) Parámetros:\n",
    ">>...\n",
    "\n",
    "> ### b) Variables:\n",
    ">> ...\n",
    "\n",
    "> ### c) Función Objetivo:\n",
    ">> ...\n",
    "\n",
    "> ### d) Restricciones:\n",
    ">> ...\n",
    "\n",
    "\n",
    "\n",
    "\n",
    "## V) Instancia Sencilla\n",
    "> ...\n"
   ]
  },
  {
   "cell_type": "markdown",
   "metadata": {},
   "source": [
    "## IV) Generador de Instancias Aleatorias"
   ]
  },
  {
   "cell_type": "code",
   "execution_count": 1,
   "metadata": {
    "collapsed": true
   },
   "outputs": [],
   "source": [
    "## Reserva\n",
    "# d: duración de la observacion [1,inf] horas\n",
    "# p: prioridad de la reserva [1 , 2]\n",
    "# t: telescopio $\\{t_1,t_2,t_3,...,t_n\\}$\n",
    "# W: "
   ]
  },
  {
   "cell_type": "code",
   "execution_count": 15,
   "metadata": {
    "collapsed": true
   },
   "outputs": [],
   "source": [
    "start_date <- as.Date(\"2017/10/1\")\n",
    "end_date <- as.Date(\"2017/10/31\")\n",
    "my_dates <- seq.Date(start_date,end_date, by = \"day\")"
   ]
  },
  {
   "cell_type": "code",
   "execution_count": 16,
   "metadata": {},
   "outputs": [
    {
     "data": {
      "text/html": [
       "<ol class=list-inline>\n",
       "\t<li><time datetime=\"2017-10-01\">2017-10-01</time></li>\n",
       "\t<li><time datetime=\"2017-10-02\">2017-10-02</time></li>\n",
       "\t<li><time datetime=\"2017-10-03\">2017-10-03</time></li>\n",
       "\t<li><time datetime=\"2017-10-04\">2017-10-04</time></li>\n",
       "\t<li><time datetime=\"2017-10-05\">2017-10-05</time></li>\n",
       "\t<li><time datetime=\"2017-10-06\">2017-10-06</time></li>\n",
       "\t<li><time datetime=\"2017-10-07\">2017-10-07</time></li>\n",
       "\t<li><time datetime=\"2017-10-08\">2017-10-08</time></li>\n",
       "\t<li><time datetime=\"2017-10-09\">2017-10-09</time></li>\n",
       "\t<li><time datetime=\"2017-10-10\">2017-10-10</time></li>\n",
       "\t<li><time datetime=\"2017-10-11\">2017-10-11</time></li>\n",
       "\t<li><time datetime=\"2017-10-12\">2017-10-12</time></li>\n",
       "\t<li><time datetime=\"2017-10-13\">2017-10-13</time></li>\n",
       "\t<li><time datetime=\"2017-10-14\">2017-10-14</time></li>\n",
       "\t<li><time datetime=\"2017-10-15\">2017-10-15</time></li>\n",
       "\t<li><time datetime=\"2017-10-16\">2017-10-16</time></li>\n",
       "\t<li><time datetime=\"2017-10-17\">2017-10-17</time></li>\n",
       "\t<li><time datetime=\"2017-10-18\">2017-10-18</time></li>\n",
       "\t<li><time datetime=\"2017-10-19\">2017-10-19</time></li>\n",
       "\t<li><time datetime=\"2017-10-20\">2017-10-20</time></li>\n",
       "\t<li><time datetime=\"2017-10-21\">2017-10-21</time></li>\n",
       "\t<li><time datetime=\"2017-10-22\">2017-10-22</time></li>\n",
       "\t<li><time datetime=\"2017-10-23\">2017-10-23</time></li>\n",
       "\t<li><time datetime=\"2017-10-24\">2017-10-24</time></li>\n",
       "\t<li><time datetime=\"2017-10-25\">2017-10-25</time></li>\n",
       "\t<li><time datetime=\"2017-10-26\">2017-10-26</time></li>\n",
       "\t<li><time datetime=\"2017-10-27\">2017-10-27</time></li>\n",
       "\t<li><time datetime=\"2017-10-28\">2017-10-28</time></li>\n",
       "\t<li><time datetime=\"2017-10-29\">2017-10-29</time></li>\n",
       "\t<li><time datetime=\"2017-10-30\">2017-10-30</time></li>\n",
       "\t<li><time datetime=\"2017-10-31\">2017-10-31</time></li>\n",
       "</ol>\n"
      ],
      "text/latex": [
       "\\begin{enumerate*}\n",
       "\\item 2017-10-01\n",
       "\\item 2017-10-02\n",
       "\\item 2017-10-03\n",
       "\\item 2017-10-04\n",
       "\\item 2017-10-05\n",
       "\\item 2017-10-06\n",
       "\\item 2017-10-07\n",
       "\\item 2017-10-08\n",
       "\\item 2017-10-09\n",
       "\\item 2017-10-10\n",
       "\\item 2017-10-11\n",
       "\\item 2017-10-12\n",
       "\\item 2017-10-13\n",
       "\\item 2017-10-14\n",
       "\\item 2017-10-15\n",
       "\\item 2017-10-16\n",
       "\\item 2017-10-17\n",
       "\\item 2017-10-18\n",
       "\\item 2017-10-19\n",
       "\\item 2017-10-20\n",
       "\\item 2017-10-21\n",
       "\\item 2017-10-22\n",
       "\\item 2017-10-23\n",
       "\\item 2017-10-24\n",
       "\\item 2017-10-25\n",
       "\\item 2017-10-26\n",
       "\\item 2017-10-27\n",
       "\\item 2017-10-28\n",
       "\\item 2017-10-29\n",
       "\\item 2017-10-30\n",
       "\\item 2017-10-31\n",
       "\\end{enumerate*}\n"
      ],
      "text/markdown": [
       "1. 2017-10-01\n",
       "2. 2017-10-02\n",
       "3. 2017-10-03\n",
       "4. 2017-10-04\n",
       "5. 2017-10-05\n",
       "6. 2017-10-06\n",
       "7. 2017-10-07\n",
       "8. 2017-10-08\n",
       "9. 2017-10-09\n",
       "10. 2017-10-10\n",
       "11. 2017-10-11\n",
       "12. 2017-10-12\n",
       "13. 2017-10-13\n",
       "14. 2017-10-14\n",
       "15. 2017-10-15\n",
       "16. 2017-10-16\n",
       "17. 2017-10-17\n",
       "18. 2017-10-18\n",
       "19. 2017-10-19\n",
       "20. 2017-10-20\n",
       "21. 2017-10-21\n",
       "22. 2017-10-22\n",
       "23. 2017-10-23\n",
       "24. 2017-10-24\n",
       "25. 2017-10-25\n",
       "26. 2017-10-26\n",
       "27. 2017-10-27\n",
       "28. 2017-10-28\n",
       "29. 2017-10-29\n",
       "30. 2017-10-30\n",
       "31. 2017-10-31\n",
       "\n",
       "\n"
      ],
      "text/plain": [
       " [1] \"2017-10-01\" \"2017-10-02\" \"2017-10-03\" \"2017-10-04\" \"2017-10-05\"\n",
       " [6] \"2017-10-06\" \"2017-10-07\" \"2017-10-08\" \"2017-10-09\" \"2017-10-10\"\n",
       "[11] \"2017-10-11\" \"2017-10-12\" \"2017-10-13\" \"2017-10-14\" \"2017-10-15\"\n",
       "[16] \"2017-10-16\" \"2017-10-17\" \"2017-10-18\" \"2017-10-19\" \"2017-10-20\"\n",
       "[21] \"2017-10-21\" \"2017-10-22\" \"2017-10-23\" \"2017-10-24\" \"2017-10-25\"\n",
       "[26] \"2017-10-26\" \"2017-10-27\" \"2017-10-28\" \"2017-10-29\" \"2017-10-30\"\n",
       "[31] \"2017-10-31\""
      ]
     },
     "metadata": {},
     "output_type": "display_data"
    }
   ],
   "source": [
    "my_dates"
   ]
  },
  {
   "cell_type": "code",
   "execution_count": 159,
   "metadata": {},
   "outputs": [],
   "source": [
    "# Cuidado! la libreria \"chron\" utiliza el formato retardado de fechas: mm/dd/yyyy\n",
    "# hay que generar una secuencia de fechas para todo el mes, las horas de observación son fijas, se asume (simplifica)\n",
    "# que no hay cambios de hora en la salida y puesta esperada del sol por temporada.\n",
    "\n",
    "library(chron)\n",
    "\n",
    "days <- format(seq(as.Date(\"10/1/2017\",format = \"%m/%d/%Y\"), as.Date(\"10/31/2017\",format = \"%m/%d/%Y\"), \"days\"),format = \"%m/%d/%Y\")\n",
    "#mientras tanto dejemos solo 1 dia para ejemplificar\n",
    "t1 <- chron(\"10/1/2017\", \"20:00:00\")\n",
    "t2 <- chron(\"10/2/2017\",\"04:00:01\")\n",
    "\n",
    "# Set de reservas\n",
    "reservas <- function(n_obs){\n",
    "    d <- sample(seq(1,10),n_obs, replace = TRUE)\n",
    "    p <- sample(c(1,2),n_obs,replace = TRUE)\n",
    "    t <- sample(seq(1,10,by=1),n_obs, replace = TRUE)\n",
    "    w <- sample(seq(t1,t2, by = times(\"03:00:00\")),n_obs, replace = TRUE)\n",
    "    return(list(d,p,t,w))\n",
    "}"
   ]
  },
  {
   "cell_type": "markdown",
   "metadata": {},
   "source": [
    "> - d: Duración en horas que necesita la observación\n",
    "> - p: Prioridad de la observacion\n",
    "> - t: Telescopio solicitado\n",
    "> - W: Hora en la que se solicita observar"
   ]
  },
  {
   "cell_type": "code",
   "execution_count": 163,
   "metadata": {},
   "outputs": [
    {
     "data": {
      "text/plain": [
       "[[1]]\n",
       "[1]  6  4 10  2  7\n",
       "\n",
       "[[2]]\n",
       "[1] 2 2 2 1 1\n",
       "\n",
       "[[3]]\n",
       "[1] 10  8  5  3  9\n",
       "\n",
       "[[4]]\n",
       "[1] (10/02/17 02:00:00) (10/01/17 23:00:00) (10/01/17 20:00:00)\n",
       "[4] (10/01/17 23:00:00) (10/01/17 23:00:00)\n"
      ]
     },
     "metadata": {},
     "output_type": "display_data"
    }
   ],
   "source": [
    "# Se generan 5 solicitudes de observación aleatorias\n",
    "reservas(5)"
   ]
  },
  {
   "cell_type": "code",
   "execution_count": 164,
   "metadata": {},
   "outputs": [],
   "source": []
  },
  {
   "cell_type": "code",
   "execution_count": null,
   "metadata": {
    "collapsed": true
   },
   "outputs": [],
   "source": []
  },
  {
   "cell_type": "code",
   "execution_count": null,
   "metadata": {
    "collapsed": true
   },
   "outputs": [],
   "source": []
  }
 ],
 "metadata": {
  "kernelspec": {
   "display_name": "R",
   "language": "R",
   "name": "ir"
  },
  "language_info": {
   "codemirror_mode": "r",
   "file_extension": ".r",
   "mimetype": "text/x-r-source",
   "name": "R",
   "pygments_lexer": "r",
   "version": "3.3.3"
  }
 },
 "nbformat": 4,
 "nbformat_minor": 2
}
