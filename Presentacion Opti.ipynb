{
 "cells": [
  {
   "cell_type": "markdown",
   "metadata": {},
   "source": [
    "# Telescope Network Scheduling Problem\n",
    "Tipo de resolución: Porgramación Lineal Entera\n",
    "\n",
    "## I) Descripción del Problema:\n",
    "> ...\n",
    "\n",
    "## II) Supuestos:\n",
    "> ...\n",
    "\n",
    "## III) Modelo:\n",
    "> ### a) Parámetros:\n",
    ">>...\n",
    "\n",
    "> ### b) Variables:\n",
    ">> ...\n",
    "\n",
    "> ### c) Función Objetivo:\n",
    ">> ...\n",
    "\n",
    "> ### d) Restricciones:\n",
    ">> ...\n",
    "\n",
    "\n",
    "\n",
    "\n",
    "## V) Instancia Sencilla\n",
    "> ...\n"
   ]
  },
  {
   "cell_type": "markdown",
   "metadata": {},
   "source": [
    "## IV) Generador de Instancias Aleatorias"
   ]
  },
  {
   "cell_type": "code",
   "execution_count": 1,
   "metadata": {
    "collapsed": true
   },
   "outputs": [],
   "source": [
    "## Reserva\n",
    "# d: duración de la observacion [1,inf] horas\n",
    "# p: prioridad de la reserva [1 , 2]\n",
    "# t: telescopio $\\{t_1,t_2,t_3,...,t_n\\}$\n",
    "# W: "
   ]
  },
  {
   "cell_type": "code",
   "execution_count": 15,
   "metadata": {
    "collapsed": true
   },
   "outputs": [],
   "source": [
    "start_date <- as.Date(\"2017/10/1\")\n",
    "end_date <- as.Date(\"2017/10/31\")\n",
    "my_dates <- seq.Date(start_date,end_date, by = \"day\")"
   ]
  },
  {
   "cell_type": "code",
   "execution_count": null,
   "metadata": {},
   "outputs": [],
   "source": []
  },
  {
   "cell_type": "code",
   "execution_count": 159,
   "metadata": {
    "collapsed": true
   },
   "outputs": [],
   "source": [
    "# Cuidado! la libreria \"chron\" utiliza el formato retardado de fechas: mm/dd/yyyy\n",
    "# hay que generar una secuencia de fechas para todo el mes, las horas de observación son fijas, se asume (simplifica)\n",
    "# que no hay cambios de hora en la salida y puesta esperada del sol por temporada.\n",
    "\n",
    "library(chron)\n",
    "\n",
    "days <- format(seq(as.Date(\"10/1/2017\",format = \"%m/%d/%Y\"), as.Date(\"10/31/2017\",format = \"%m/%d/%Y\"), \"days\"),format = \"%m/%d/%Y\")\n",
    "#mientras tanto dejemos solo 1 dia para ejemplificar\n",
    "t1 <- chron(\"10/1/2017\", \"20:00:00\")\n",
    "t2 <- chron(\"10/2/2017\",\"04:00:01\")\n",
    "\n",
    "# Set de reservas\n",
    "reservas <- function(n_obs){\n",
    "    d <- sample(seq(1,10),n_obs, replace = TRUE)\n",
    "    p <- sample(c(1,2),n_obs,replace = TRUE)\n",
    "    t <- sample(seq(1,10,by=1),n_obs, replace = TRUE)\n",
    "    w <- sample(seq(t1,t2, by = times(\"03:00:00\")),n_obs, replace = TRUE)\n",
    "    return(list(d,p,t,w))\n",
    "}"
   ]
  },
  {
   "cell_type": "markdown",
   "metadata": {},
   "source": [
    "> - d: Duración en horas que necesita la observación\n",
    "> - p: Prioridad de la observacion\n",
    "> - t: Telescopio solicitado\n",
    "> - W: Hora en la que se solicita observar"
   ]
  },
  {
   "cell_type": "code",
   "execution_count": 163,
   "metadata": {},
   "outputs": [
    {
     "data": {
      "text/plain": [
       "[[1]]\n",
       "[1]  6  4 10  2  7\n",
       "\n",
       "[[2]]\n",
       "[1] 2 2 2 1 1\n",
       "\n",
       "[[3]]\n",
       "[1] 10  8  5  3  9\n",
       "\n",
       "[[4]]\n",
       "[1] (10/02/17 02:00:00) (10/01/17 23:00:00) (10/01/17 20:00:00)\n",
       "[4] (10/01/17 23:00:00) (10/01/17 23:00:00)\n"
      ]
     },
     "metadata": {},
     "output_type": "display_data"
    }
   ],
   "source": [
    "# Se generan 5 solicitudes de observación aleatorias\n",
    "reservas(5)"
   ]
  },
  {
   "cell_type": "code",
   "execution_count": 164,
   "metadata": {
    "collapsed": true
   },
   "outputs": [],
   "source": []
  },
  {
   "cell_type": "code",
   "execution_count": null,
   "metadata": {
    "collapsed": true
   },
   "outputs": [],
   "source": []
  },
  {
   "cell_type": "code",
   "execution_count": null,
   "metadata": {
    "collapsed": true
   },
   "outputs": [],
   "source": []
  }
 ],
 "metadata": {
  "kernelspec": {
   "display_name": "R",
   "language": "R",
   "name": "ir"
  },
  "language_info": {
   "codemirror_mode": "r",
   "file_extension": ".r",
   "mimetype": "text/x-r-source",
   "name": "R",
   "pygments_lexer": "r",
   "version": "3.3.3"
  }
 },
 "nbformat": 4,
 "nbformat_minor": 2
}
