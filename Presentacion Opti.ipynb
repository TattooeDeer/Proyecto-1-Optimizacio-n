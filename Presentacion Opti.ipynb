{
 "cells": [
  {
   "cell_type": "markdown",
   "metadata": {},
   "source": [
    "# Telescope Network Scheduling Problem\n",
    "Tipo de resolución: Porgramación Lineal Entera\n",
    "\n",
    "## I) Descripción del Problema:\n",
    "> ...\n",
    "\n",
    "## II) Supuestos:\n",
    "> ...\n",
    "\n",
    "## III) Modelo:\n",
    "> ### a) Parámetros:\n",
    ">> - I: Set de reservas recibidas.\n",
    ">> - $T_{i,j}:$ Tupla de la forma (telescopio, hora). $i\\in {1,2,3,...,n}, j\\in {01,02,03,...,24hr}$\n",
    ">> - $S_i:$ Horas en las que la solicitud de observación i requiere ser ejecutada.\n",
    ">> - $a_{i,k,t}:$ 1 Si la solicitud i requiere utilizar el telescopio k en la ranura de tiempo $t\\in S_i$. 0 de otra forma.$k\\in{1,2,3,...,m telescopios}$\n",
    ">> - $p_i$: Prioridad de la reserva i. $p_i\\in {0,1},\\forall i$\n",
    "> ### b) Variables:\n",
    ">> $X_{i,k,t}: $ 1 Si se asigna el telescopio k para observación de la reserva i en la ranura $t\\in S_i$.\n",
    "\n",
    "> ### c) Función Objetivo:\n",
    ">> .\n",
    "\n",
    "> ### d) Restricciones:\n",
    ">> - Una reservación no debe quedar fragmentada en varias observaciones: $$\\sum_{t} X_{i,k,t} \\leq 1, \\forall i \\in I$$\n",
    ">> - No se debe agendar mas de una observación para un cierto telescopio en un cierto bloque horario:\n",
    "$$\\sum_{i}a_{i,k,t}X_{i,k,t} \\leq 1, \\forall t \\in T$$\n",
    ">> - Variable de desición es binaria: $$X_{i,k,t}\\in {0,1}, \\forall i \\in I, \\forall t \\in S_i$$\n",
    ">> - Naturaleza de las Variables:\n",
    "$$X_{i,k,t} \\geq 0$$\n",
    "\n",
    "\n",
    "\n",
    "\n",
    "## V) Instancia Sencilla\n",
    "\n",
    "> Parámetros:\n",
    ">> - Ejemplo de solicitud de reserva:\n",
    ">>> - $d_1 =$ 3 hrs.\n",
    ">>> - $p_1 =$ 2\n",
    ">>> - $t_1 =$ 1 (Telescopio Nº1)\n",
    ">>> - $W_1 =$ ( 23hrs, 24hrs )\n",
    "\n",
    ">> - Agenda del telescopio i para la hora j:\n",
    ">>> - $I = ({d_1,p_1,t_1,W_1})$ Solo se recibio la reserva 1\n",
    ">>> - $T_{1,t} =$  ({1,24},{1,03}, {1,05}, {1,23}) Son las horas en las que esta disponible el telescopio 1.\n",
    ">>> - $S_{1} =$ {23, 24} Son las horas en las que la solicitud 1 requiere de observacion\n",
    ">>> - $a_{i,k,t} =$ Para nuestro caso $a_{1,1,23} = 1$ y $a_{1,1,24} = 1$ .\n",
    ">>> - $p_1 = 2$\n",
    "\n"
   ]
  },
  {
   "cell_type": "markdown",
   "metadata": {},
   "source": [
    "## IV) Generador de Instancias Aleatorias"
   ]
  },
  {
   "cell_type": "code",
   "execution_count": 1,
   "metadata": {
    "collapsed": true
   },
   "outputs": [],
   "source": [
    "## Reserva\n",
    "# d: duración de la observacion [1,inf] horas\n",
    "# p: prioridad de la reserva [1 , 2]\n",
    "# t: telescopio $\\{t_1,t_2,t_3,...,t_n\\}$\n",
    "# W: "
   ]
  },
  {
   "cell_type": "code",
   "execution_count": 15,
   "metadata": {
    "collapsed": true
   },
   "outputs": [],
   "source": [
    "start_date <- as.Date(\"2017/10/1\")\n",
    "end_date <- as.Date(\"2017/10/31\")\n",
    "my_dates <- seq.Date(start_date,end_date, by = \"day\")"
   ]
  },
  {
   "cell_type": "code",
   "execution_count": null,
   "metadata": {
    "collapsed": true
   },
   "outputs": [],
   "source": []
  },
  {
   "cell_type": "code",
   "execution_count": 85,
   "metadata": {},
   "outputs": [],
   "source": [
    "# Cuidado! la libreria \"chron\" utiliza el formato retardado de fechas: mm/dd/yyyy\n",
    "# hay que generar una secuencia de fechas para todo el mes, las horas de observación son fijas, se asume (simplifica)\n",
    "# que no hay cambios de hora en la salida y puesta esperada del sol por temporada.\n",
    "\n",
    "library(chron)\n",
    "\n",
    "\n",
    "#mientras tanto dejemos solo 1 dia para ejemplificar\n",
    "t1 <- chron(\"10/1/2017\", \"20:00:00\")\n",
    "t2 <- chron(\"10/2/2017\",\"04:00:01\")\n",
    "\n",
    "# Set de reservas\n",
    "reservas <- function(n_obs){\n",
    "    hrs <- seq(\n",
    "     from=as.POSIXct(\"2017-10-1 0:00\", tz=\"UTC\"),\n",
    "     to=as.POSIXct(\"2017-10-2 23:00\", tz=\"UTC\"),\n",
    "     by=\"2 hour\"\n",
    "       )  \n",
    "    d <- sample(seq(1,10),n_obs, replace = TRUE)\n",
    "    p <- sample(c(1,2),n_obs,replace = TRUE)\n",
    "    t <- sample(hrs,n_obs, replace = TRUE)\n",
    "    w <- sample(hrs,n_obs, replace = TRUE)\n",
    "\n",
    "    df_res <- data.frame(d,p,t,w)\n",
    "    colnames(df_res)<-c(\"duracion\",\"prioridad\",\"telescopio solicitado\", \"ventana de obs.\")\n",
    "    return(df_res)\n",
    "}"
   ]
  },
  {
   "cell_type": "markdown",
   "metadata": {},
   "source": [
    "> - d: Duración en horas que necesita la observación\n",
    "> - p: Prioridad de la observacion\n",
    "> - t: Telescopio solicitado\n",
    "> - W: Hora en la que se solicita observar"
   ]
  },
  {
   "cell_type": "code",
   "execution_count": 86,
   "metadata": {},
   "outputs": [],
   "source": [
    "# Se generan 5 solicitudes de observación aleatorias\n",
    "res <- reservas(5)"
   ]
  },
  {
   "cell_type": "code",
   "execution_count": 87,
   "metadata": {},
   "outputs": [
    {
     "data": {
      "text/html": [
       "<table>\n",
       "<thead><tr><th scope=col>duracion</th><th scope=col>prioridad</th><th scope=col>telescopio solicitado</th><th scope=col>ventana de obs.</th></tr></thead>\n",
       "<tbody>\n",
       "\t<tr><td> 8                 </td><td>1                  </td><td>2017-10-02 10:00:00</td><td>2017-10-01 04:00:00</td></tr>\n",
       "\t<tr><td> 5                 </td><td>1                  </td><td>2017-10-01 20:00:00</td><td>2017-10-02 10:00:00</td></tr>\n",
       "\t<tr><td>10                 </td><td>1                  </td><td>2017-10-02 16:00:00</td><td>2017-10-01 12:00:00</td></tr>\n",
       "\t<tr><td> 2                 </td><td>1                  </td><td>2017-10-01 18:00:00</td><td>2017-10-01 20:00:00</td></tr>\n",
       "\t<tr><td> 9                 </td><td>2                  </td><td>2017-10-01 16:00:00</td><td>2017-10-01 14:00:00</td></tr>\n",
       "</tbody>\n",
       "</table>\n"
      ],
      "text/latex": [
       "\\begin{tabular}{r|llll}\n",
       " duracion & prioridad & telescopio solicitado & ventana de obs.\\\\\n",
       "\\hline\n",
       "\t  8                  & 1                   & 2017-10-02 10:00:00 & 2017-10-01 04:00:00\\\\\n",
       "\t  5                  & 1                   & 2017-10-01 20:00:00 & 2017-10-02 10:00:00\\\\\n",
       "\t 10                  & 1                   & 2017-10-02 16:00:00 & 2017-10-01 12:00:00\\\\\n",
       "\t  2                  & 1                   & 2017-10-01 18:00:00 & 2017-10-01 20:00:00\\\\\n",
       "\t  9                  & 2                   & 2017-10-01 16:00:00 & 2017-10-01 14:00:00\\\\\n",
       "\\end{tabular}\n"
      ],
      "text/markdown": [
       "\n",
       "duracion | prioridad | telescopio solicitado | ventana de obs. | \n",
       "|---|---|---|---|---|\n",
       "|  8                  | 1                   | 2017-10-02 10:00:00 | 2017-10-01 04:00:00 | \n",
       "|  5                  | 1                   | 2017-10-01 20:00:00 | 2017-10-02 10:00:00 | \n",
       "| 10                  | 1                   | 2017-10-02 16:00:00 | 2017-10-01 12:00:00 | \n",
       "|  2                  | 1                   | 2017-10-01 18:00:00 | 2017-10-01 20:00:00 | \n",
       "|  9                  | 2                   | 2017-10-01 16:00:00 | 2017-10-01 14:00:00 | \n",
       "\n",
       "\n"
      ],
      "text/plain": [
       "  duracion prioridad telescopio solicitado ventana de obs.    \n",
       "1  8       1         2017-10-02 10:00:00   2017-10-01 04:00:00\n",
       "2  5       1         2017-10-01 20:00:00   2017-10-02 10:00:00\n",
       "3 10       1         2017-10-02 16:00:00   2017-10-01 12:00:00\n",
       "4  2       1         2017-10-01 18:00:00   2017-10-01 20:00:00\n",
       "5  9       2         2017-10-01 16:00:00   2017-10-01 14:00:00"
      ]
     },
     "metadata": {},
     "output_type": "display_data"
    }
   ],
   "source": [
    "res"
   ]
  },
  {
   "cell_type": "code",
   "execution_count": null,
   "metadata": {},
   "outputs": [],
   "source": []
  },
  {
   "cell_type": "code",
   "execution_count": null,
   "metadata": {
    "collapsed": true
   },
   "outputs": [],
   "source": []
  }
 ],
 "metadata": {
  "kernelspec": {
   "display_name": "R",
   "language": "R",
   "name": "ir"
  },
  "language_info": {
   "codemirror_mode": "r",
   "file_extension": ".r",
   "mimetype": "text/x-r-source",
   "name": "R",
   "pygments_lexer": "r",
   "version": "3.3.3"
  }
 },
 "nbformat": 4,
 "nbformat_minor": 2
}
