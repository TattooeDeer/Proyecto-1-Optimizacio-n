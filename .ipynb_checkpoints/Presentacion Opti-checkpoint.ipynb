{
 "cells": [
  {
   "cell_type": "markdown",
   "metadata": {},
   "source": [
    "# Telescope Network Scheduling Problem\n",
    "Tipo de resolución: Porgramación Lineal Entera\n",
    "\n",
    "## I) Descripción del Problema:\n",
    "> ...\n",
    "\n",
    "## II) Supuestos:\n",
    "> ...\n",
    "\n",
    "## III) Modelo:\n",
    "> ### a) Parámetros:\n",
    ">> - I: Set de reservas recibidas.\n",
    ">> - $T_{i,j}:$ Tupla de la forma (telescopio, hora). $i\\in {1,2,3,...,n}, j\\in {01,02,03,...,24hr}$\n",
    ">> - $S_i:$ Horas en las que la solicitud de observación i requiere ser ejecutada.\n",
    ">> - $a_{i,k,t}:$ 1 Si la solicitud i requiere utilizar el telescopio k en la ranura de tiempo $t\\in S_i$. 0 de otra forma.$k\\in{1,2,3,...,m telescopios}$\n",
    ">> - $p_i$: Prioridad de la reserva i. $p_i\\in \\{1,2\\},\\forall i$\n",
    "> ### b) Variables:\n",
    ">> $X_{i,k,t}: $ 1 Si se asigna el telescopio k para observación de la reserva i en la ranura $t\\in S_i$.\n",
    "\n",
    "> ### c) Función Objetivo:\n",
    ">> $$max \\sum_{i}\\sum_{t\\in S_i} p_i X_{i,k,t}$$\n",
    "\n",
    "> ### d) Restricciones:\n",
    ">> - Una reservación no debe quedar fragmentada en varias observaciones: $$\\sum_{t} X_{i,k,t} \\leq 1, \\forall i \\in I$$\n",
    ">> - No se debe agendar mas de una observación para un cierto telescopio en un cierto bloque horario:\n",
    "$$\\sum_{i}a_{i,k,t}X_{i,k,t} \\leq 1, \\forall t \\in T$$\n",
    ">> - Variable de desición es binaria: $$X_{i,k,t}\\in {0,1}, \\forall i \\in I, \\forall t \\in S_i$$\n",
    ">> - Naturaleza de las Variables:\n",
    "$$X_{i,k,t} \\geq 0$$\n",
    "\n",
    "\n",
    "\n",
    "\n",
    "## V) Instancia Sencilla\n",
    "\n",
    "> Parámetros:\n",
    ">> - Ejemplo de solicitud de reserva:\n",
    ">>> - $d_1 =$ 3 hrs.\n",
    ">>> - $p_1 =$ 2\n",
    ">>> - $t_1 =$ 1 (Telescopio Nº1)\n",
    ">>> - $W_1 =$ ( 23hrs, 24hrs )\n",
    "\n",
    ">> - Agenda del telescopio i para la hora j:\n",
    ">>> - $I = ({d_1,p_1,t_1,W_1})$ Solo se recibio la reserva 1\n",
    ">>> - $T_{1,t} =$  ({1,24},{1,03}, {1,05}, {1,23}) Son las horas en las que esta disponible el telescopio 1.\n",
    ">>> - $S_{1} =$ {23, 24} Son las horas en las que la solicitud 1 requiere de observacion\n",
    ">>> - $a_{i,k,t} =$ Para nuestro caso $a_{1,1,23} = 1$ y $a_{1,1,24} = 1$ .\n",
    ">>> - $p_1 = 2$\n",
    "\n"
   ]
  },
  {
   "cell_type": "markdown",
   "metadata": {},
   "source": [
    "## IV) Generador de Instancias Aleatorias"
   ]
  },
  {
   "cell_type": "code",
   "execution_count": 1,
   "metadata": {
    "collapsed": true
   },
   "outputs": [],
   "source": [
    "## Reserva\n",
    "# d: duración de la observacion [1,inf] horas\n",
    "# p: prioridad de la reserva [1 , 2]\n",
    "# t: telescopio $\\{t_1,t_2,t_3,...,t_n\\}$\n",
    "# W: "
   ]
  },
  {
   "cell_type": "code",
   "execution_count": 15,
   "metadata": {
    "collapsed": true
   },
   "outputs": [],
   "source": [
    "start_date <- as.Date(\"2017/10/1\")\n",
    "end_date <- as.Date(\"2017/10/31\")\n",
    "my_dates <- seq.Date(start_date,end_date, by = \"day\")"
   ]
  },
  {
   "cell_type": "code",
   "execution_count": null,
   "metadata": {
    "collapsed": true
   },
   "outputs": [],
   "source": []
  },
  {
   "cell_type": "code",
   "execution_count": 16,
   "metadata": {
    "collapsed": true
   },
   "outputs": [],
   "source": [
    "# Cuidado! la libreria \"chron\" utiliza el formato retardado de fechas: mm/dd/yyyy\n",
    "# hay que generar una secuencia de fechas para todo el mes, las horas de observación son fijas, se asume (simplifica)\n",
    "# que no hay cambios de hora en la salida y puesta esperada del sol por temporada.\n",
    "\n",
    "library(chron)\n",
    "\n",
    "\n",
    "#mientras tanto dejemos solo 1 dia para ejemplificar\n",
    "t1 <- chron(\"10/1/2017\", \"20:00:00\")\n",
    "t2 <- chron(\"10/2/2017\",\"04:00:01\")\n",
    "\n",
    "# Set de reservas\n",
    "reservas <- function(n_obs){\n",
    "    hrs <- seq(\n",
    "     from=as.POSIXct(\"2017-10-1 0:00\", tz=\"UTC\"),\n",
    "     to=as.POSIXct(\"2017-10-2 23:00\", tz=\"UTC\"),\n",
    "     by=\"2 hour\"\n",
    "       )\n",
    "    t <- sample(seq(1,10),n_obs, replace = TRUE)\n",
    "    p <- sample(c(1,2),n_obs,replace = TRUE)\n",
    "    d <- round(runif(n_obs,1,2), digits = 2)\n",
    "    w <- sample(hrs,n_obs, replace = TRUE)\n",
    "\n",
    "    df_res <- data.frame(d,p,t,w)\n",
    "    colnames(df_res)<-c(\"duracion\",\"prioridad\",\"telescopio solicitado\", \"ventana de obs.\")\n",
    "    return(df_res)\n",
    "}"
   ]
  },
  {
   "cell_type": "markdown",
   "metadata": {},
   "source": [
    "> - d: Duración en horas que necesita la observación\n",
    "> - p: Prioridad de la observacion\n",
    "> - t: Telescopio solicitado\n",
    "> - W: Hora en la que se solicita observar"
   ]
  },
  {
   "cell_type": "code",
   "execution_count": 17,
   "metadata": {
    "collapsed": true
   },
   "outputs": [],
   "source": [
    "# Se generan 5 solicitudes de observación aleatorias\n",
    "res <- reservas(5)"
   ]
  },
  {
   "cell_type": "code",
   "execution_count": 18,
   "metadata": {},
   "outputs": [
    {
     "data": {
      "text/html": [
       "<table>\n",
       "<thead><tr><th scope=col>duracion</th><th scope=col>prioridad</th><th scope=col>telescopio solicitado</th><th scope=col>ventana de obs.</th></tr></thead>\n",
       "<tbody>\n",
       "\t<tr><td>1.08               </td><td>2                  </td><td>7                  </td><td>2017-10-01 20:00:00</td></tr>\n",
       "\t<tr><td>1.81               </td><td>1                  </td><td>7                  </td><td>2017-10-02 00:00:00</td></tr>\n",
       "\t<tr><td>1.38               </td><td>1                  </td><td>3                  </td><td>2017-10-01 02:00:00</td></tr>\n",
       "\t<tr><td>1.67               </td><td>1                  </td><td>6                  </td><td>2017-10-01 18:00:00</td></tr>\n",
       "\t<tr><td>1.70               </td><td>2                  </td><td>8                  </td><td>2017-10-01 22:00:00</td></tr>\n",
       "</tbody>\n",
       "</table>\n"
      ],
      "text/latex": [
       "\\begin{tabular}{r|llll}\n",
       " duracion & prioridad & telescopio solicitado & ventana de obs.\\\\\n",
       "\\hline\n",
       "\t 1.08                & 2                   & 7                   & 2017-10-01 20:00:00\\\\\n",
       "\t 1.81                & 1                   & 7                   & 2017-10-02 00:00:00\\\\\n",
       "\t 1.38                & 1                   & 3                   & 2017-10-01 02:00:00\\\\\n",
       "\t 1.67                & 1                   & 6                   & 2017-10-01 18:00:00\\\\\n",
       "\t 1.70                & 2                   & 8                   & 2017-10-01 22:00:00\\\\\n",
       "\\end{tabular}\n"
      ],
      "text/markdown": [
       "\n",
       "duracion | prioridad | telescopio solicitado | ventana de obs. | \n",
       "|---|---|---|---|---|\n",
       "| 1.08                | 2                   | 7                   | 2017-10-01 20:00:00 | \n",
       "| 1.81                | 1                   | 7                   | 2017-10-02 00:00:00 | \n",
       "| 1.38                | 1                   | 3                   | 2017-10-01 02:00:00 | \n",
       "| 1.67                | 1                   | 6                   | 2017-10-01 18:00:00 | \n",
       "| 1.70                | 2                   | 8                   | 2017-10-01 22:00:00 | \n",
       "\n",
       "\n"
      ],
      "text/plain": [
       "  duracion prioridad telescopio solicitado ventana de obs.    \n",
       "1 1.08     2         7                     2017-10-01 20:00:00\n",
       "2 1.81     1         7                     2017-10-02 00:00:00\n",
       "3 1.38     1         3                     2017-10-01 02:00:00\n",
       "4 1.67     1         6                     2017-10-01 18:00:00\n",
       "5 1.70     2         8                     2017-10-01 22:00:00"
      ]
     },
     "metadata": {},
     "output_type": "display_data"
    }
   ],
   "source": [
    "res"
   ]
  },
  {
   "cell_type": "markdown",
   "metadata": {
    "collapsed": true
   },
   "source": [
    "# Modelo final\n",
    "> **Observaciones:**\n",
    "* 1 Telescopio.\n",
    "* Bloques horarios de 2 hrs.\n",
    "\n",
    "> **Variables**\n",
    "* $T_{i,h}:$ Tiempo de espera de la solicitud *i* al instante de tiempo *h*.\n",
    "\n",
    "\\begin{equation}\n",
    "  S_{i,h}=\\begin{cases}\n",
    "    1, & \\text{Si se asigna i para observacion en el instante de tiempo h}.\\\\\n",
    "    0, & \\text{Si no se asigna i para observación en el instante h}.\n",
    "  \\end{cases}\n",
    "\\end{equation}\n",
    "> **Parámetros**\n",
    "* $P_{i,h}:$ Prioridad que posee la solicitud *i* al instante de tiempo *h*.\n",
    "\n",
    "> **Función Objetivo:**\n",
    "$$Max Z = \\sum^{H}_{h=0}\\sum^{N}_{i=1} S_{i,h}\\cdot(P_{i,h}-T_{i,h})$$\n",
    "Donde:\n",
    "* H: Horas de trabajo hasta el siguiente período de reasignación.\n",
    "* N: Número de solicitudes hasta el siguiente período de reasignación.\n",
    "\n",
    "> **Restricciones:**<br>\n",
    "1.- No se puede asignar más de una solicitud al mismo bloque horario.\n",
    "$$S_{i,h} + S_{j,h} \\leq 1; \\forall h,i,j ; i \\neq j $$\n",
    "2.- No se puede atender a una solicitud más de una vez.\n",
    "$$\\sum_{h}^{H}S_{i,h} \\leq 1; \\forall i$$\n",
    "3.- Naturaleza de las variables:\n",
    "$$S_{i,j}, T_{i,h}\\geq 0$$\n",
    "$$h \\in \\mathbb{N}^{+}+\\{0\\}$$\n",
    "$$i \\in \\mathbb{N}^{+}$$\n",
    "\n"
   ]
  },
  {
   "cell_type": "code",
   "execution_count": 23,
   "metadata": {
    "collapsed": true
   },
   "outputs": [],
   "source": [
    "# Set de reservas\n",
    "reservas <- function(n_obs, H){\n",
    "    hrs <- seq(from=0, to=H, by=1)\n",
    "    id_sol <- seq(from = 1, to = n_obs, by =1 )\n",
    "    arr <- sample(hrs,n_obs, replace = TRUE)\n",
    "    p <- sample(c(1,2),n_obs,replace = TRUE)\n",
    "\n",
    "    df_res <- data.frame(id_sol,p,arr)\n",
    "    colnames(df_res)<-c(\"Número de solicitud\", \"Prioridad\",\"Instante de llegada\")\n",
    "    return(df_res)\n",
    "}"
   ]
  },
  {
   "cell_type": "code",
   "execution_count": 26,
   "metadata": {},
   "outputs": [
    {
     "data": {
      "text/html": [
       "<table>\n",
       "<thead><tr><th scope=col>Número de solicitud</th><th scope=col>Prioridad</th><th scope=col>Instante de llegada</th></tr></thead>\n",
       "<tbody>\n",
       "\t<tr><td> 1</td><td>1 </td><td>1 </td></tr>\n",
       "\t<tr><td> 2</td><td>2 </td><td>1 </td></tr>\n",
       "\t<tr><td> 3</td><td>2 </td><td>2 </td></tr>\n",
       "\t<tr><td> 4</td><td>2 </td><td>2 </td></tr>\n",
       "\t<tr><td> 5</td><td>1 </td><td>6 </td></tr>\n",
       "\t<tr><td> 6</td><td>1 </td><td>3 </td></tr>\n",
       "\t<tr><td> 7</td><td>1 </td><td>2 </td></tr>\n",
       "\t<tr><td> 8</td><td>2 </td><td>9 </td></tr>\n",
       "\t<tr><td> 9</td><td>1 </td><td>6 </td></tr>\n",
       "\t<tr><td>10</td><td>1 </td><td>8 </td></tr>\n",
       "</tbody>\n",
       "</table>\n"
      ],
      "text/latex": [
       "\\begin{tabular}{r|lll}\n",
       " Número de solicitud & Prioridad & Instante de llegada\\\\\n",
       "\\hline\n",
       "\t  1 & 1  & 1 \\\\\n",
       "\t  2 & 2  & 1 \\\\\n",
       "\t  3 & 2  & 2 \\\\\n",
       "\t  4 & 2  & 2 \\\\\n",
       "\t  5 & 1  & 6 \\\\\n",
       "\t  6 & 1  & 3 \\\\\n",
       "\t  7 & 1  & 2 \\\\\n",
       "\t  8 & 2  & 9 \\\\\n",
       "\t  9 & 1  & 6 \\\\\n",
       "\t 10 & 1  & 8 \\\\\n",
       "\\end{tabular}\n"
      ],
      "text/markdown": [
       "\n",
       "Número de solicitud | Prioridad | Instante de llegada | \n",
       "|---|---|---|---|---|---|---|---|---|---|\n",
       "|  1 | 1  | 1  | \n",
       "|  2 | 2  | 1  | \n",
       "|  3 | 2  | 2  | \n",
       "|  4 | 2  | 2  | \n",
       "|  5 | 1  | 6  | \n",
       "|  6 | 1  | 3  | \n",
       "|  7 | 1  | 2  | \n",
       "|  8 | 2  | 9  | \n",
       "|  9 | 1  | 6  | \n",
       "| 10 | 1  | 8  | \n",
       "\n",
       "\n"
      ],
      "text/plain": [
       "   Número de solicitud Prioridad Instante de llegada\n",
       "1   1                  1         1                  \n",
       "2   2                  2         1                  \n",
       "3   3                  2         2                  \n",
       "4   4                  2         2                  \n",
       "5   5                  1         6                  \n",
       "6   6                  1         3                  \n",
       "7   7                  1         2                  \n",
       "8   8                  2         9                  \n",
       "9   9                  1         6                  \n",
       "10 10                  1         8                  "
      ]
     },
     "metadata": {},
     "output_type": "display_data"
    }
   ],
   "source": [
    "my_res <- reservas(10,10)\n",
    "my_res"
   ]
  },
  {
   "cell_type": "code",
   "execution_count": null,
   "metadata": {
    "collapsed": true
   },
   "outputs": [],
   "source": []
  }
 ],
 "metadata": {
  "kernelspec": {
   "display_name": "R",
   "language": "R",
   "name": "ir"
  },
  "language_info": {
   "codemirror_mode": "r",
   "file_extension": ".r",
   "mimetype": "text/x-r-source",
   "name": "R",
   "pygments_lexer": "r",
   "version": "3.3.3"
  }
 },
 "nbformat": 4,
 "nbformat_minor": 2
}
